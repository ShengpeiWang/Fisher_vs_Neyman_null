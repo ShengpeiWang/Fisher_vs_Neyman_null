{
 "cells": [
  {
   "cell_type": "markdown",
   "metadata": {},
   "source": [
    "# Fisher's sharp null vs Nayman's population average effect\n",
    "\n",
    "While reading the mixtape causal inference book, my friends and I were debating about the implications of Fisher's sharp null vs Naymans's population average effect. Under Fisher's sharp null, each treatment unit is assumed to have zero treatment effect. Nayman, however, stated a more general null hypothesis, where the population average effect is assumed to be zero, but each unit could have a treatment effect. \n",
    "\n",
    "Based on my reading about their exchanges, both statastician agree that the population average effect is what we are really interested in real life:\n",
    "- Dr. Neyman: So long as the average yields of any treatments are identical, the question as to whether these treatments affect separate yields on single plots seems to be uninteresting and academic, and certainly I did not consider methods for its solution.\n",
    "- Professor Fisher: It may be foolish, but that is what the z test was designed for, and the only purpose for which it has been used.\n",
    "\n",
    "The sharp null hypothesis also allows for permutation test, because unobserved potential outcomes can be assumed to be the same as the observed outcome under the sharp null hypothesis. \n",
    "\n",
    "Here I want to test whether permutation tests and t-tests (simple population difference) would give different test results given eitehr Fisher's or Nayman's null hypotheses."
   ]
  },
  {
   "cell_type": "code",
   "execution_count": 1,
   "metadata": {},
   "outputs": [],
   "source": [
    "import numpy as np\n",
    "from scipy import stats\n",
    "\n",
    "norm = np.random.normal\n",
    "binom = np.random.binomial\n",
    "choice = np.random.choice\n",
    "shuffle = np.random.shuffle"
   ]
  },
  {
   "cell_type": "markdown",
   "metadata": {},
   "source": [
    "## Population generation"
   ]
  },
  {
   "cell_type": "code",
   "execution_count": 2,
   "metadata": {},
   "outputs": [],
   "source": [
    "N = 100 # Population size\n",
    "trmt_ratio = 100 # scale of unit treatment effects\n",
    "Y0 = 0 # Baseline population mean of y with no treatment \n",
    "t = 0 # Average population treatment effects \n",
    "\n",
    "xe = norm(size = N) # baseline population mean of x\n",
    "x_fisher = [0 for i in range(N)] # no unit treatment effect\n",
    "x_neyman = norm(size=N) * trmt_ratio # unit treatment effect"
   ]
  },
  {
   "cell_type": "code",
   "execution_count": 3,
   "metadata": {},
   "outputs": [],
   "source": [
    "def y_process(xe, x, t, Y0):\n",
    "    '''Returns an np.array of population characteristics. \n",
    "       \n",
    "    The array including the xe, x and the potential outcomes of untreated and treated units\n",
    "    \n",
    "    Args:\n",
    "        x (list): Treatment effects of the units\n",
    "        t (float): Average population treatment effects\n",
    "        Y0 (float): Baseline population mean of y with no treatment \n",
    "    '''\n",
    "    assert len(x) == len(xe), \"xe and x needs to be of the same length\"\n",
    "    \n",
    "    n = len(xe)\n",
    "    y0 = xe + Y0\n",
    "    y1 = y0 + x + t\n",
    "    \n",
    "    pop = np.stack([xe, x, y0, y1], axis = 1)\n",
    "    \n",
    "    return pop"
   ]
  },
  {
   "cell_type": "code",
   "execution_count": 4,
   "metadata": {},
   "outputs": [],
   "source": [
    "pop_fisher = y_process(xe, x_fisher, t, Y0)\n",
    "pop_neyman = y_process(xe, x_neyman, t, Y0)"
   ]
  },
  {
   "cell_type": "code",
   "execution_count": 5,
   "metadata": {},
   "outputs": [],
   "source": [
    "def pop_generation(N = 100, trmt_ratio = 100, Y0 = 0, t = 0):\n",
    "    xe = norm(size = N) # baseline population mean of x\n",
    "    x_fisher = [0 for i in range(N)] # no unit treatment effect\n",
    "    x_neyman = norm(size=N) * trmt_ratio # unit treatment effect\n",
    "    \n",
    "    pop_fisher = y_process(xe, x_fisher, t, Y0)\n",
    "    pop_neyman = y_process(xe, x_neyman, t, Y0)\n",
    "    \n",
    "    return pop_fisher, pop_neyman"
   ]
  },
  {
   "cell_type": "code",
   "execution_count": 6,
   "metadata": {},
   "outputs": [
    {
     "data": {
      "text/plain": [
       "100"
      ]
     },
     "execution_count": 6,
     "metadata": {},
     "output_type": "execute_result"
    }
   ],
   "source": [
    "len(pop_fisher)"
   ]
  },
  {
   "cell_type": "markdown",
   "metadata": {},
   "source": [
    "# Sample generation"
   ]
  },
  {
   "cell_type": "code",
   "execution_count": 7,
   "metadata": {},
   "outputs": [],
   "source": [
    "def sampling(pop, n, e_scale = 1):\n",
    "    '''Samples from a population <pop> and applies treatment.\n",
    "    \n",
    "    The columns of the array are: \n",
    "    xe, x, y0, y1, trmt, y without error, error, and observed y\n",
    "    \n",
    "    Args:\n",
    "        pop (np.array): Population characteristics\n",
    "        n (int): Sample size\n",
    "        e_scale (float): Sigma of the observation variace\n",
    "    '''\n",
    "    col = pop.shape[1]\n",
    "    sample = np.zeros((n, col + 4))\n",
    "    \n",
    "    idx = choice(range(len(pop)), n, replace = False)\n",
    "    sample[:, :col] = pop[idx, :] # samples a subset of the population\n",
    "    \n",
    "    sample[:, col] = binom(n = 1, p = p_trmt, size = n) # treatment\n",
    "    \n",
    "    sample[:, col+1] = -1 * sample[:, col - 2] * (sample[:, col] - 1) \\\n",
    "        + sample[:, col - 1] * (sample[:, col])\\\n",
    "    \n",
    "    sample[:, col + 2] = norm(size = n, scale = e_scale)\n",
    "    sample[:, col + 3] = sample[:, col + 1] + sample[:, col + 2]\n",
    "    \n",
    "    return sample"
   ]
  },
  {
   "cell_type": "code",
   "execution_count": 8,
   "metadata": {},
   "outputs": [],
   "source": [
    "p_trmt = 0.5 # percent receiving treatment\n",
    "n = 30\n",
    "sample_fisher = sampling(pop_fisher, n)\n",
    "sample_neyman = sampling(pop_neyman, n)"
   ]
  },
  {
   "cell_type": "code",
   "execution_count": 9,
   "metadata": {},
   "outputs": [],
   "source": [
    "#sample_neyman[:5]"
   ]
  },
  {
   "cell_type": "markdown",
   "metadata": {},
   "source": [
    "## Test treatment effect using the sample with t_test"
   ]
  },
  {
   "cell_type": "code",
   "execution_count": 10,
   "metadata": {},
   "outputs": [],
   "source": [
    "ya = sample_fisher[sample_fisher[:,4] == 0, -1]\n",
    "yb = sample_fisher[sample_fisher[:,4] == 1, -1]\n",
    "tStat, pValue = stats.ttest_ind(ya, yb, equal_var = False) #run independent sample T-Test"
   ]
  },
  {
   "cell_type": "code",
   "execution_count": 11,
   "metadata": {},
   "outputs": [
    {
     "data": {
      "text/plain": [
       "(0.07430396069192363, 0.9413100700316837)"
      ]
     },
     "execution_count": 11,
     "metadata": {},
     "output_type": "execute_result"
    }
   ],
   "source": [
    "tStat, pValue"
   ]
  },
  {
   "cell_type": "markdown",
   "metadata": {},
   "source": [
    "## Test treatment effect using the sample with permutation"
   ]
  },
  {
   "cell_type": "code",
   "execution_count": 12,
   "metadata": {},
   "outputs": [],
   "source": [
    "def one_perm(sample, shuffle = True):\n",
    "    '''Calculate trmt effect for one random set'''\n",
    "    n = len(sample)\n",
    "    if shuffle:\n",
    "        shuffled_trmt = choice(sample[:,4], n, replace = False)\n",
    "    else: \n",
    "        shuffled_trmt = sample[:,4]\n",
    "    ya = sample[shuffled_trmt == 0, -1].mean()\n",
    "    yb = sample[shuffled_trmt == 1, -1].mean()\n",
    "    \n",
    "    return yb - ya\n",
    "\n",
    "def permutt(sample, perm_n, sample_effect = False):\n",
    "    '''Estimate p_value using n permutations'''\n",
    "    perms = [one_perm(sample) for i in range(perm_n)]\n",
    "    if not sample_effect:\n",
    "        sample_effect = one_perm(sample, shuffle = False)\n",
    "    ne = sum([1 for i in perms if i > sample_effect ]) \n",
    "    # number of times permutated differences are as extreme as the observed difference\n",
    "    return ne/perm_n"
   ]
  },
  {
   "cell_type": "code",
   "execution_count": 13,
   "metadata": {},
   "outputs": [
    {
     "data": {
      "text/plain": [
       "-0.032634999273354476"
      ]
     },
     "execution_count": 13,
     "metadata": {},
     "output_type": "execute_result"
    }
   ],
   "source": [
    "one_perm(sample_fisher, shuffle = False) # observed difference"
   ]
  },
  {
   "cell_type": "code",
   "execution_count": 14,
   "metadata": {},
   "outputs": [],
   "source": [
    "# permutt(sample_fisher, 20)"
   ]
  },
  {
   "cell_type": "markdown",
   "metadata": {},
   "source": [
    "## Comparing t-test and Permutation test"
   ]
  },
  {
   "cell_type": "code",
   "execution_count": 15,
   "metadata": {},
   "outputs": [],
   "source": [
    "def get_p(sample, perm_n, **kwargs):\n",
    "    # get t_test p-value:\n",
    "    ya = sample[sample[:,4] == 0, -1]\n",
    "    yb = sample[sample[:,4] == 1, -1]\n",
    "    _, ttest_p = stats.ttest_ind(ya, yb, equal_var = False) \n",
    "    \n",
    "    sample_effect = yb.mean() - ya.mean()\n",
    "    perm_p = permutt(sample, perm_n, sample_effect, **kwargs)\n",
    "    \n",
    "    return [sample_effect, ttest_p, perm_p]"
   ]
  },
  {
   "cell_type": "code",
   "execution_count": 16,
   "metadata": {},
   "outputs": [],
   "source": [
    "# get_p(sample_fisher, 20)"
   ]
  },
  {
   "cell_type": "markdown",
   "metadata": {},
   "source": [
    "## Conduct many samples"
   ]
  },
  {
   "cell_type": "code",
   "execution_count": 17,
   "metadata": {},
   "outputs": [],
   "source": [
    "def pop_trmt_effect(pop):\n",
    "    '''Calculate the true treatment effect in a population'''\n",
    "    return pop[:,3].mean() - pop[:,2].mean()"
   ]
  },
  {
   "cell_type": "code",
   "execution_count": 18,
   "metadata": {},
   "outputs": [
    {
     "name": "stdout",
     "output_type": "stream",
     "text": [
      "True treatment effect in the population\n",
      "0.0 0.03054047140762021\n"
     ]
    }
   ],
   "source": [
    "pop_fisher, pop_neyman = pop_generation(N = 50000, trmt_ratio = 10, Y0 = 0, t = 0)\n",
    "print(\"True treatment effect in the population\")\n",
    "print(pop_trmt_effect(pop_fisher), pop_trmt_effect(pop_neyman))"
   ]
  },
  {
   "cell_type": "code",
   "execution_count": 19,
   "metadata": {},
   "outputs": [],
   "source": [
    "sample_fisher = sampling(pop_fisher, n, e_scale = 1)\n",
    "sample_neyman = sampling(pop_neyman, n, e_scale = 1)\n",
    "p_fisher = get_p(sample_fisher, 100)\n",
    "p_neyman = get_p(sample_neyman, 100)"
   ]
  },
  {
   "cell_type": "code",
   "execution_count": 20,
   "metadata": {},
   "outputs": [
    {
     "data": {
      "text/plain": [
       "[0.906828020841851, 0.11126327107902693, 0.1]"
      ]
     },
     "execution_count": 20,
     "metadata": {},
     "output_type": "execute_result"
    }
   ],
   "source": [
    "p_fisher"
   ]
  },
  {
   "cell_type": "code",
   "execution_count": 21,
   "metadata": {},
   "outputs": [
    {
     "data": {
      "text/plain": [
       "[-1.1253924221191811, 0.6779955906576554, 1.3]"
      ]
     },
     "execution_count": 21,
     "metadata": {},
     "output_type": "execute_result"
    }
   ],
   "source": [
    "p_neyman"
   ]
  },
  {
   "cell_type": "code",
   "execution_count": 22,
   "metadata": {},
   "outputs": [],
   "source": [
    "p_fishers = []\n",
    "p_neymans = []\n",
    "for i in range(1000):\n",
    "    sample_fisher = sampling(pop_fisher, n, e_scale = 1)\n",
    "    sample_neyman = sampling(pop_neyman, n, e_scale = 1)\n",
    "    p_fishers.append(get_p(sample_fisher, 500))\n",
    "    p_neymans.append(get_p(sample_neyman, 500))"
   ]
  },
  {
   "cell_type": "code",
   "execution_count": 23,
   "metadata": {},
   "outputs": [
    {
     "name": "stderr",
     "output_type": "stream",
     "text": [
      "Matplotlib is building the font cache; this may take a moment.\n"
     ]
    }
   ],
   "source": [
    "import pandas as pd\n",
    "import seaborn as sns\n",
    "data_fishers = pd.DataFrame(p_fishers, columns = [\"sample_effect\", \"t-test_p\", \"permutation_r\"])\n",
    "data_fishers['null'] = \"Fisher\"\n",
    "data_neymans = pd.DataFrame(p_neymans, columns = [\"sample_effect\", \"t-test_p\", \"permutation_r\"])\n",
    "data_neymans['null'] = \"Neyman\"\n",
    "data = pd.concat([data_fishers, data_neymans])"
   ]
  },
  {
   "cell_type": "code",
   "execution_count": 24,
   "metadata": {},
   "outputs": [],
   "source": [
    "data.to_csv(\"fisher_vs_neyman.csv\")"
   ]
  },
  {
   "cell_type": "code",
   "execution_count": 25,
   "metadata": {},
   "outputs": [],
   "source": [
    "#sns.kdeplot(data = data[['sample_effect', 'color']], x = \"sample_effect\", fill = \"color\")"
   ]
  }
 ],
 "metadata": {
  "kernelspec": {
   "display_name": "Python 3",
   "language": "python",
   "name": "python3"
  },
  "language_info": {
   "codemirror_mode": {
    "name": "ipython",
    "version": 3
   },
   "file_extension": ".py",
   "mimetype": "text/x-python",
   "name": "python",
   "nbconvert_exporter": "python",
   "pygments_lexer": "ipython3",
   "version": "3.7.3"
  }
 },
 "nbformat": 4,
 "nbformat_minor": 2
}
